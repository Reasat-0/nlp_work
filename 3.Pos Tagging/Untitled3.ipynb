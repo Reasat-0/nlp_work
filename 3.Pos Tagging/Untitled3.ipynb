{
 "cells": [
  {
   "cell_type": "code",
   "execution_count": 2,
   "metadata": {},
   "outputs": [],
   "source": [
    "import spacy\n",
    "nlp = spacy.load('en_core_web_sm')\n",
    "\n",
    "from spacy import displacy\n",
    "\n",
    "with open('text file/test_file.txt') as f:\n",
    "    doc = nlp(f.read())"
   ]
  },
  {
   "cell_type": "code",
   "execution_count": 16,
   "metadata": {},
   "outputs": [
    {
     "name": "stdout",
     "output_type": "stream",
     "text": [
      "MOZILLA        PROPN          NNP            noun, proper singular\n",
      "PUBLIC         NOUN           NN             noun, singular or mass\n",
      "LICENSE.VersionPROPN          NNP            noun, proper singular\n"
     ]
    }
   ],
   "source": [
    "for token in list(doc.sents)[0]:\n",
    "    print(f'{token.text:{15}}{token.pos_:{15}}{token.tag_:{15}}{str(spacy.explain(token.tag_))}')"
   ]
  },
  {
   "cell_type": "code",
   "execution_count": 19,
   "metadata": {},
   "outputs": [],
   "source": [
    "count = doc.count_by(spacy.attrs.POS)"
   ]
  },
  {
   "cell_type": "code",
   "execution_count": 23,
   "metadata": {},
   "outputs": [
    {
     "data": {
      "text/plain": [
       "{96: 34,\n",
       " 97: 34,\n",
       " 99: 1,\n",
       " 100: 16,\n",
       " 101: 1,\n",
       " 103: 7,\n",
       " 84: 9,\n",
       " 85: 16,\n",
       " 86: 3,\n",
       " 89: 7,\n",
       " 90: 21,\n",
       " 92: 23,\n",
       " 93: 8}"
      ]
     },
     "execution_count": 23,
     "metadata": {},
     "output_type": "execute_result"
    }
   ],
   "source": [
    "count"
   ]
  },
  {
   "cell_type": "code",
   "execution_count": 52,
   "metadata": {},
   "outputs": [
    {
     "name": "stdout",
     "output_type": "stream",
     "text": [
      "Tag_Number |Tag_Name |Tag_Occured\n",
      "84         | ADJ     |9         \n",
      "85         | ADP     |16        \n",
      "86         | ADV     |3         \n",
      "89         | CCONJ   |7         \n",
      "90         | DET     |21        \n",
      "92         | NOUN    |23        \n",
      "93         | NUM     |8         \n",
      "96         | PROPN   |34        \n",
      "97         | PUNCT   |34        \n",
      "99         | SYM     |1         \n",
      "100        | VERB    |16        \n",
      "101        | X       |1         \n",
      "103        | SPACE   |7         \n"
     ]
    }
   ],
   "source": [
    "print('Tag_Number', '|Tag_Name' , '|Tag_Occured')\n",
    "for tag_num,tag_occured in sorted(count.items()):\n",
    "    print(f'{tag_num:<{10}} | {doc.vocab[tag_num].text:{8}}|{tag_occured:<{10}}')"
   ]
  },
  {
   "cell_type": "code",
   "execution_count": 61,
   "metadata": {},
   "outputs": [
    {
     "data": {
      "text/html": [
       "<svg xmlns=\"http://www.w3.org/2000/svg\" xmlns:xlink=\"http://www.w3.org/1999/xlink\" xml:lang=\"en\" id=\"897b6f511ef74733b1cc896462d6aa13-0\" class=\"displacy\" width=\"575\" height=\"312.0\" direction=\"ltr\" style=\"max-width: none; height: 312.0px; color: #000000; background: #ffffff; font-family: Arial; direction: ltr\">\n",
       "<text class=\"displacy-token\" fill=\"currentColor\" text-anchor=\"middle\" y=\"222.0\">\n",
       "    <tspan class=\"displacy-word\" fill=\"currentColor\" x=\"50\">MOZILLA</tspan>\n",
       "    <tspan class=\"displacy-tag\" dy=\"2em\" fill=\"currentColor\" x=\"50\">PROPN</tspan>\n",
       "</text>\n",
       "\n",
       "<text class=\"displacy-token\" fill=\"currentColor\" text-anchor=\"middle\" y=\"222.0\">\n",
       "    <tspan class=\"displacy-word\" fill=\"currentColor\" x=\"225\">PUBLIC</tspan>\n",
       "    <tspan class=\"displacy-tag\" dy=\"2em\" fill=\"currentColor\" x=\"225\">NOUN</tspan>\n",
       "</text>\n",
       "\n",
       "<text class=\"displacy-token\" fill=\"currentColor\" text-anchor=\"middle\" y=\"222.0\">\n",
       "    <tspan class=\"displacy-word\" fill=\"currentColor\" x=\"400\">LICENSE.Version</tspan>\n",
       "    <tspan class=\"displacy-tag\" dy=\"2em\" fill=\"currentColor\" x=\"400\">PROPN</tspan>\n",
       "</text>\n",
       "\n",
       "<g class=\"displacy-arrow\">\n",
       "    <path class=\"displacy-arc\" id=\"arrow-897b6f511ef74733b1cc896462d6aa13-0-0\" stroke-width=\"2px\" d=\"M70,177.0 C70,2.0 400.0,2.0 400.0,177.0\" fill=\"none\" stroke=\"currentColor\"/>\n",
       "    <text dy=\"1.25em\" style=\"font-size: 0.8em; letter-spacing: 1px\">\n",
       "        <textPath xlink:href=\"#arrow-897b6f511ef74733b1cc896462d6aa13-0-0\" class=\"displacy-label\" startOffset=\"50%\" side=\"left\" fill=\"currentColor\" text-anchor=\"middle\">compound</textPath>\n",
       "    </text>\n",
       "    <path class=\"displacy-arrowhead\" d=\"M70,179.0 L62,167.0 78,167.0\" fill=\"currentColor\"/>\n",
       "</g>\n",
       "\n",
       "<g class=\"displacy-arrow\">\n",
       "    <path class=\"displacy-arc\" id=\"arrow-897b6f511ef74733b1cc896462d6aa13-0-1\" stroke-width=\"2px\" d=\"M245,177.0 C245,89.5 395.0,89.5 395.0,177.0\" fill=\"none\" stroke=\"currentColor\"/>\n",
       "    <text dy=\"1.25em\" style=\"font-size: 0.8em; letter-spacing: 1px\">\n",
       "        <textPath xlink:href=\"#arrow-897b6f511ef74733b1cc896462d6aa13-0-1\" class=\"displacy-label\" startOffset=\"50%\" side=\"left\" fill=\"currentColor\" text-anchor=\"middle\">compound</textPath>\n",
       "    </text>\n",
       "    <path class=\"displacy-arrowhead\" d=\"M245,179.0 L237,167.0 253,167.0\" fill=\"currentColor\"/>\n",
       "</g>\n",
       "</svg>"
      ],
      "text/plain": [
       "<IPython.core.display.HTML object>"
      ]
     },
     "metadata": {},
     "output_type": "display_data"
    }
   ],
   "source": [
    "displacy.render(list(doc.sents)[0],style='dep', jupyter = True)"
   ]
  },
  {
   "cell_type": "code",
   "execution_count": 74,
   "metadata": {},
   "outputs": [
    {
     "name": "stdout",
     "output_type": "stream",
     "text": [
      "1.0.1 ---------------DATE-----------Absolute or relative dates or periods\n",
      "the Covered Code ---------------LAW-----------Named documents made into laws.\n",
      "third ---------------ORDINAL-----------\"first\", \"second\", etc.\n",
      "third ---------------ORDINAL-----------\"first\", \"second\", etc.\n"
     ]
    }
   ],
   "source": [
    "for ents in doc.ents[:4]: # first four entities\n",
    "    print(ents.text + ' ---------------' + ents.label_ + '-----------' + str(spacy.explain(ents.label_)))"
   ]
  },
  {
   "cell_type": "code",
   "execution_count": 78,
   "metadata": {},
   "outputs": [
    {
     "data": {
      "text/plain": [
       "24"
      ]
     },
     "execution_count": 78,
     "metadata": {},
     "output_type": "execute_result"
    }
   ],
   "source": [
    "len(list(doc.sents)) #finding the sentence in the doc"
   ]
  },
  {
   "cell_type": "code",
   "execution_count": 82,
   "metadata": {},
   "outputs": [
    {
     "data": {
      "text/plain": [
       "7"
      ]
     },
     "execution_count": 82,
     "metadata": {},
     "output_type": "execute_result"
    }
   ],
   "source": [
    "#############_______How many senteces contain name entities____________############\n",
    "\n",
    "list_of_sents = [nlp(sents.text) for sents in doc]\n",
    "\n",
    "list_of_sen_with_entities = [doc for doc in list_of_sents if doc.ents]\n",
    "len(list_of_sen_with_entities)"
   ]
  }
 ],
 "metadata": {
  "kernelspec": {
   "display_name": "Python 3",
   "language": "python",
   "name": "python3"
  },
  "language_info": {
   "codemirror_mode": {
    "name": "ipython",
    "version": 3
   },
   "file_extension": ".py",
   "mimetype": "text/x-python",
   "name": "python",
   "nbconvert_exporter": "python",
   "pygments_lexer": "ipython3",
   "version": "3.7.3"
  }
 },
 "nbformat": 4,
 "nbformat_minor": 2
}
