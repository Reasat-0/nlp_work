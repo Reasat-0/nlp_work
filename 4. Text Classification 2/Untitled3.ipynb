{
 "cells": [
  {
   "cell_type": "code",
   "execution_count": 15,
   "metadata": {},
   "outputs": [],
   "source": [
    "import numpy as np\n",
    "import pandas as pd\n",
    "\n",
    "dataset  = pd.read_csv('katty2.csv')\n"
   ]
  },
  {
   "cell_type": "code",
   "execution_count": 16,
   "metadata": {
    "scrolled": true
   },
   "outputs": [
    {
     "data": {
      "text/html": [
       "<div>\n",
       "<style scoped>\n",
       "    .dataframe tbody tr th:only-of-type {\n",
       "        vertical-align: middle;\n",
       "    }\n",
       "\n",
       "    .dataframe tbody tr th {\n",
       "        vertical-align: top;\n",
       "    }\n",
       "\n",
       "    .dataframe thead th {\n",
       "        text-align: right;\n",
       "    }\n",
       "</style>\n",
       "<table border=\"1\" class=\"dataframe\">\n",
       "  <thead>\n",
       "    <tr style=\"text-align: right;\">\n",
       "      <th></th>\n",
       "      <th>AUTHOR</th>\n",
       "      <th>Unnamed: 1</th>\n",
       "      <th>CONTENT</th>\n",
       "      <th>Label</th>\n",
       "      <th>Length</th>\n",
       "      <th>Unnamed: 5</th>\n",
       "      <th>Unnamed: 6</th>\n",
       "    </tr>\n",
       "  </thead>\n",
       "  <tbody>\n",
       "    <tr>\n",
       "      <th>0</th>\n",
       "      <td>lekanaVEVO115</td>\n",
       "      <td>NaN</td>\n",
       "      <td>i love this so much. AND also I Generate Free ...</td>\n",
       "      <td>Ham</td>\n",
       "      <td>115</td>\n",
       "      <td>NaN</td>\n",
       "      <td>NaN</td>\n",
       "    </tr>\n",
       "    <tr>\n",
       "      <th>1</th>\n",
       "      <td>Pyunghee</td>\n",
       "      <td>NaN</td>\n",
       "      <td>http://www.billboard.com/articles/columns/pop-...</td>\n",
       "      <td>Ham</td>\n",
       "      <td>115</td>\n",
       "      <td>NaN</td>\n",
       "      <td>NaN</td>\n",
       "    </tr>\n",
       "    <tr>\n",
       "      <th>2</th>\n",
       "      <td>Erica Ross</td>\n",
       "      <td>NaN</td>\n",
       "      <td>Hey guys! Please join me in my fight to help a...</td>\n",
       "      <td>Ham</td>\n",
       "      <td>113</td>\n",
       "      <td>NaN</td>\n",
       "      <td>NaN</td>\n",
       "    </tr>\n",
       "    <tr>\n",
       "      <th>3</th>\n",
       "      <td>Aviel Haimov</td>\n",
       "      <td>NaN</td>\n",
       "      <td>http://psnboss.com/?ref=2tGgp3pV6L this is the...</td>\n",
       "      <td>Ham</td>\n",
       "      <td>113</td>\n",
       "      <td>NaN</td>\n",
       "      <td>NaN</td>\n",
       "    </tr>\n",
       "    <tr>\n",
       "      <th>4</th>\n",
       "      <td>John Bello</td>\n",
       "      <td>NaN</td>\n",
       "      <td>Hey everyone. Watch this trailer!!!!!!!!  http...</td>\n",
       "      <td>Ham</td>\n",
       "      <td>113</td>\n",
       "      <td>NaN</td>\n",
       "      <td>NaN</td>\n",
       "    </tr>\n",
       "  </tbody>\n",
       "</table>\n",
       "</div>"
      ],
      "text/plain": [
       "          AUTHOR  Unnamed: 1  \\\n",
       "0  lekanaVEVO115         NaN   \n",
       "1       Pyunghee         NaN   \n",
       "2     Erica Ross         NaN   \n",
       "3   Aviel Haimov         NaN   \n",
       "4     John Bello         NaN   \n",
       "\n",
       "                                             CONTENT Label  Length  \\\n",
       "0  i love this so much. AND also I Generate Free ...   Ham     115   \n",
       "1  http://www.billboard.com/articles/columns/pop-...   Ham     115   \n",
       "2  Hey guys! Please join me in my fight to help a...   Ham     113   \n",
       "3  http://psnboss.com/?ref=2tGgp3pV6L this is the...   Ham     113   \n",
       "4  Hey everyone. Watch this trailer!!!!!!!!  http...   Ham     113   \n",
       "\n",
       "   Unnamed: 5  Unnamed: 6  \n",
       "0         NaN         NaN  \n",
       "1         NaN         NaN  \n",
       "2         NaN         NaN  \n",
       "3         NaN         NaN  \n",
       "4         NaN         NaN  "
      ]
     },
     "execution_count": 16,
     "metadata": {},
     "output_type": "execute_result"
    }
   ],
   "source": [
    "dataset.head()"
   ]
  },
  {
   "cell_type": "code",
   "execution_count": 23,
   "metadata": {},
   "outputs": [],
   "source": [
    "from sklearn.model_selection import train_test_split\n",
    "\n",
    "x = dataset[['Length']]\n",
    "\n",
    "y = dataset['Label']\n",
    "\n",
    "xTrain , xTest , yTrain , yTest = train_test_split(x,y,test_size = 0.3, random_state = 0 )"
   ]
  },
  {
   "cell_type": "code",
   "execution_count": 32,
   "metadata": {},
   "outputs": [
    {
     "name": "stderr",
     "output_type": "stream",
     "text": [
      "C:\\Users\\Reasat\\Anaconda3\\envs\\nlp_course\\lib\\site-packages\\sklearn\\linear_model\\logistic.py:433: FutureWarning: Default solver will be changed to 'lbfgs' in 0.22. Specify a solver to silence this warning.\n",
      "  FutureWarning)\n"
     ]
    }
   ],
   "source": [
    "#Model_with_logistic_regression model\n",
    "\n",
    "from sklearn.linear_model import LogisticRegression\n",
    "\n",
    "lr_regressor = LogisticRegression()\n",
    "\n",
    "lr_regressor.fit(xTrain,yTrain)\n",
    "\n",
    "prediction = lr_regressor.predict(xTest)"
   ]
  },
  {
   "cell_type": "code",
   "execution_count": 33,
   "metadata": {},
   "outputs": [
    {
     "data": {
      "text/plain": [
       "array(['Ham', 'Ham', 'Spam', 'Ham', 'Spam', 'Ham', 'Ham', 'Ham', 'Spam',\n",
       "       'Spam', 'Spam', 'Spam', 'Ham', 'Ham', 'Ham', 'Ham', 'Spam', 'Ham',\n",
       "       'Spam', 'Spam', 'Ham', 'Ham', 'Ham', 'Spam', 'Spam', 'Ham', 'Ham',\n",
       "       'Ham', 'Spam', 'Spam', 'Ham', 'Ham', 'Ham', 'Spam', 'Ham', 'Spam',\n",
       "       'Spam', 'Spam', 'Spam', 'Ham', 'Spam', 'Ham', 'Spam', 'Spam',\n",
       "       'Spam', 'Spam', 'Spam', 'Spam', 'Ham', 'Spam', 'Spam', 'Spam',\n",
       "       'Ham', 'Ham', 'Ham', 'Ham', 'Ham', 'Spam', 'Ham', 'Ham', 'Ham',\n",
       "       'Spam', 'Spam', 'Spam', 'Spam', 'Spam', 'Spam', 'Spam', 'Ham',\n",
       "       'Spam', 'Spam', 'Ham', 'Spam', 'Ham', 'Ham', 'Spam', 'Spam', 'Ham',\n",
       "       'Ham', 'Spam', 'Spam', 'Ham', 'Ham', 'Ham', 'Ham', 'Spam', 'Ham',\n",
       "       'Ham', 'Ham', 'Spam', 'Ham', 'Ham', 'Spam', 'Spam', 'Spam', 'Ham',\n",
       "       'Spam', 'Ham', 'Ham', 'Ham', 'Ham', 'Ham', 'Spam', 'Ham', 'Spam'],\n",
       "      dtype=object)"
      ]
     },
     "execution_count": 33,
     "metadata": {},
     "output_type": "execute_result"
    }
   ],
   "source": [
    "prediction"
   ]
  },
  {
   "cell_type": "code",
   "execution_count": 35,
   "metadata": {},
   "outputs": [],
   "source": [
    "# Checking the confusion matrix\n",
    "\n",
    "from sklearn import metrics\n",
    "confusion_matrix = metrics.confusion_matrix(yTest,prediction)"
   ]
  },
  {
   "cell_type": "code",
   "execution_count": 61,
   "metadata": {},
   "outputs": [
    {
     "data": {
      "text/html": [
       "<div>\n",
       "<style scoped>\n",
       "    .dataframe tbody tr th:only-of-type {\n",
       "        vertical-align: middle;\n",
       "    }\n",
       "\n",
       "    .dataframe tbody tr th {\n",
       "        vertical-align: top;\n",
       "    }\n",
       "\n",
       "    .dataframe thead th {\n",
       "        text-align: right;\n",
       "    }\n",
       "</style>\n",
       "<table border=\"1\" class=\"dataframe\">\n",
       "  <thead>\n",
       "    <tr style=\"text-align: right;\">\n",
       "      <th></th>\n",
       "      <th>ham</th>\n",
       "      <th>spam</th>\n",
       "    </tr>\n",
       "  </thead>\n",
       "  <tbody>\n",
       "    <tr>\n",
       "      <th>ham</th>\n",
       "      <td>54</td>\n",
       "      <td>0</td>\n",
       "    </tr>\n",
       "    <tr>\n",
       "      <th>spam</th>\n",
       "      <td>0</td>\n",
       "      <td>51</td>\n",
       "    </tr>\n",
       "  </tbody>\n",
       "</table>\n",
       "</div>"
      ],
      "text/plain": [
       "      ham  spam\n",
       "ham    54     0\n",
       "spam    0    51"
      ]
     },
     "execution_count": 61,
     "metadata": {},
     "output_type": "execute_result"
    }
   ],
   "source": [
    "dataset = pd.DataFrame(confusion_matrix,index = ['ham','spam'], columns= ['ham','spam'])\n",
    "dataset"
   ]
  },
  {
   "cell_type": "code",
   "execution_count": 41,
   "metadata": {},
   "outputs": [
    {
     "name": "stdout",
     "output_type": "stream",
     "text": [
      "1.0\n"
     ]
    }
   ],
   "source": [
    "#classification report\n",
    "#print(metrics.classification_report(yTest,prediction))\n",
    "\n",
    "print(metrics.accuracy_score(yTest,prediction))\n"
   ]
  },
  {
   "cell_type": "code",
   "execution_count": 48,
   "metadata": {},
   "outputs": [
    {
     "data": {
      "text/plain": [
       "MultinomialNB(alpha=1.0, class_prior=None, fit_prior=True)"
      ]
     },
     "execution_count": 48,
     "metadata": {},
     "output_type": "execute_result"
    }
   ],
   "source": [
    "#______Model with Naive Bayes\n",
    "\n",
    "from sklearn.naive_bayes import MultinomialNB\n",
    "\n",
    "nb_regressor = MultinomialNB()\n",
    "\n",
    "nb_regressor.fit(xTrain,yTrain)"
   ]
  },
  {
   "cell_type": "code",
   "execution_count": 51,
   "metadata": {},
   "outputs": [
    {
     "name": "stdout",
     "output_type": "stream",
     "text": [
      "['Spam' 'Spam' 'Spam' 'Spam' 'Spam' 'Spam' 'Spam' 'Spam' 'Spam' 'Spam'\n",
      " 'Spam' 'Spam' 'Spam' 'Spam' 'Spam' 'Spam' 'Spam' 'Spam' 'Spam' 'Spam'\n",
      " 'Spam' 'Spam' 'Spam' 'Spam' 'Spam' 'Spam' 'Spam' 'Spam' 'Spam' 'Spam'\n",
      " 'Spam' 'Spam' 'Spam' 'Spam' 'Spam' 'Spam' 'Spam' 'Spam' 'Spam' 'Spam'\n",
      " 'Spam' 'Spam' 'Spam' 'Spam' 'Spam' 'Spam' 'Spam' 'Spam' 'Spam' 'Spam'\n",
      " 'Spam' 'Spam' 'Spam' 'Spam' 'Spam' 'Spam' 'Spam' 'Spam' 'Spam' 'Spam'\n",
      " 'Spam' 'Spam' 'Spam' 'Spam' 'Spam' 'Spam' 'Spam' 'Spam' 'Spam' 'Spam'\n",
      " 'Spam' 'Spam' 'Spam' 'Spam' 'Spam' 'Spam' 'Spam' 'Spam' 'Spam' 'Spam'\n",
      " 'Spam' 'Spam' 'Spam' 'Spam' 'Spam' 'Spam' 'Spam' 'Spam' 'Spam' 'Spam'\n",
      " 'Spam' 'Spam' 'Spam' 'Spam' 'Spam' 'Spam' 'Spam' 'Spam' 'Spam' 'Spam'\n",
      " 'Spam' 'Spam' 'Spam' 'Spam' 'Spam']\n"
     ]
    }
   ],
   "source": [
    "nb_pred = nb_regressor.predict(xTest)\n",
    "print(nb_pred)"
   ]
  },
  {
   "cell_type": "code",
   "execution_count": 55,
   "metadata": {},
   "outputs": [
    {
     "name": "stdout",
     "output_type": "stream",
     "text": [
      "              precision    recall  f1-score   support\n",
      "\n",
      "         Ham       1.00      1.00      1.00        54\n",
      "        Spam       1.00      1.00      1.00        51\n",
      "\n",
      "   micro avg       1.00      1.00      1.00       105\n",
      "   macro avg       1.00      1.00      1.00       105\n",
      "weighted avg       1.00      1.00      1.00       105\n",
      "\n"
     ]
    }
   ],
   "source": [
    "#classification report\n",
    "print(metrics.classification_report(yTest,prediction))\n",
    "\n",
    "#print(metrics.accuracy_score(yTest,nb_pred))\n"
   ]
  },
  {
   "cell_type": "code",
   "execution_count": 62,
   "metadata": {},
   "outputs": [
    {
     "data": {
      "text/html": [
       "<div>\n",
       "<style scoped>\n",
       "    .dataframe tbody tr th:only-of-type {\n",
       "        vertical-align: middle;\n",
       "    }\n",
       "\n",
       "    .dataframe tbody tr th {\n",
       "        vertical-align: top;\n",
       "    }\n",
       "\n",
       "    .dataframe thead th {\n",
       "        text-align: right;\n",
       "    }\n",
       "</style>\n",
       "<table border=\"1\" class=\"dataframe\">\n",
       "  <thead>\n",
       "    <tr style=\"text-align: right;\">\n",
       "      <th></th>\n",
       "      <th>ham</th>\n",
       "      <th>spam</th>\n",
       "    </tr>\n",
       "  </thead>\n",
       "  <tbody>\n",
       "    <tr>\n",
       "      <th>ham</th>\n",
       "      <td>0</td>\n",
       "      <td>54</td>\n",
       "    </tr>\n",
       "    <tr>\n",
       "      <th>spam</th>\n",
       "      <td>0</td>\n",
       "      <td>51</td>\n",
       "    </tr>\n",
       "  </tbody>\n",
       "</table>\n",
       "</div>"
      ],
      "text/plain": [
       "      ham  spam\n",
       "ham     0    54\n",
       "spam    0    51"
      ]
     },
     "execution_count": 62,
     "metadata": {},
     "output_type": "execute_result"
    }
   ],
   "source": [
    "#confusion matrix fo Naive\n",
    "\n",
    "dt = pd.DataFrame(metrics.confusion_matrix(yTest,nb_pred), index = ['ham','spam'] , columns = ['ham','spam'])\n",
    "dt"
   ]
  },
  {
   "cell_type": "code",
   "execution_count": 67,
   "metadata": {},
   "outputs": [],
   "source": [
    "from sklearn.svm import SVC\n",
    "svc_regressor = SVC(gamma = 'auto' )\n",
    "svc_regressor.fit(xTrain,yTrain)\n",
    "svc_pred = svc_regressor.predict(xTest)"
   ]
  },
  {
   "cell_type": "code",
   "execution_count": 72,
   "metadata": {},
   "outputs": [
    {
     "data": {
      "text/html": [
       "<div>\n",
       "<style scoped>\n",
       "    .dataframe tbody tr th:only-of-type {\n",
       "        vertical-align: middle;\n",
       "    }\n",
       "\n",
       "    .dataframe tbody tr th {\n",
       "        vertical-align: top;\n",
       "    }\n",
       "\n",
       "    .dataframe thead th {\n",
       "        text-align: right;\n",
       "    }\n",
       "</style>\n",
       "<table border=\"1\" class=\"dataframe\">\n",
       "  <thead>\n",
       "    <tr style=\"text-align: right;\">\n",
       "      <th></th>\n",
       "      <th>ham</th>\n",
       "      <th>spam</th>\n",
       "    </tr>\n",
       "  </thead>\n",
       "  <tbody>\n",
       "    <tr>\n",
       "      <th>ham</th>\n",
       "      <td>54</td>\n",
       "      <td>0</td>\n",
       "    </tr>\n",
       "    <tr>\n",
       "      <th>spam</th>\n",
       "      <td>0</td>\n",
       "      <td>51</td>\n",
       "    </tr>\n",
       "  </tbody>\n",
       "</table>\n",
       "</div>"
      ],
      "text/plain": [
       "      ham  spam\n",
       "ham    54     0\n",
       "spam    0    51"
      ]
     },
     "execution_count": 72,
     "metadata": {},
     "output_type": "execute_result"
    }
   ],
   "source": [
    "pd.DataFrame(metrics.confusion_matrix(yTest,svc_pred), index = ['ham','spam'] , columns = ['ham','spam'])"
   ]
  },
  {
   "cell_type": "code",
   "execution_count": 73,
   "metadata": {},
   "outputs": [
    {
     "name": "stdout",
     "output_type": "stream",
     "text": [
      "1.0\n"
     ]
    }
   ],
   "source": [
    "#classification report\n",
    "#print(metrics.classification_report(yTest,prediction))\n",
    "\n",
    "print(metrics.accuracy_score(yTest,prediction))\n"
   ]
  }
 ],
 "metadata": {
  "kernelspec": {
   "display_name": "Python 3",
   "language": "python",
   "name": "python3"
  },
  "language_info": {
   "codemirror_mode": {
    "name": "ipython",
    "version": 3
   },
   "file_extension": ".py",
   "mimetype": "text/x-python",
   "name": "python",
   "nbconvert_exporter": "python",
   "pygments_lexer": "ipython3",
   "version": "3.7.3"
  }
 },
 "nbformat": 4,
 "nbformat_minor": 2
}
