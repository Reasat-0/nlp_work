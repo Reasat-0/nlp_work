{
 "cells": [
  {
   "cell_type": "code",
   "execution_count": 2,
   "metadata": {},
   "outputs": [],
   "source": [
    "import spacy"
   ]
  },
  {
   "cell_type": "code",
   "execution_count": 3,
   "metadata": {},
   "outputs": [],
   "source": [
    "nlp = spacy.load('en_core_web_sm')"
   ]
  },
  {
   "cell_type": "code",
   "execution_count": 12,
   "metadata": {},
   "outputs": [
    {
     "name": "stdout",
     "output_type": "stream",
     "text": [
      "This DET nsubj\n",
      "is VERB ROOT\n",
      "a DET det\n",
      "text NOUN attr\n",
      "to ADP prep\n",
      "the DET det\n",
      "president NOUN pobj\n",
      "of ADP prep\n",
      "U.A.E PROPN pobj\n",
      ". PUNCT punct\n",
      "Hey INTJ ROOT\n",
      "! PUNCT punct\n",
      "! PUNCT punct\n",
      "! PUNCT punct\n",
      "why ADV advmod\n",
      "do VERB aux\n",
      "nt ADV advmod\n",
      "u PRON aux\n",
      "receive VERB ROOT\n",
      "this DET dobj\n"
     ]
    }
   ],
   "source": [
    "message = nlp(u'This is a text to the president of U.A.E . Hey!!! why dont u receive this')\n",
    "for token in message:\n",
    "    print(token.text,token.pos_,token.dep_)"
   ]
  },
  {
   "cell_type": "code",
   "execution_count": 16,
   "metadata": {},
   "outputs": [
    {
     "data": {
      "text/plain": [
       "'NOUN'"
      ]
     },
     "execution_count": 16,
     "metadata": {},
     "output_type": "execute_result"
    }
   ],
   "source": [
    "message[3].pos_"
   ]
  }
 ],
 "metadata": {
  "kernelspec": {
   "display_name": "Python 3",
   "language": "python",
   "name": "python3"
  },
  "language_info": {
   "codemirror_mode": {
    "name": "ipython",
    "version": 3
   },
   "file_extension": ".py",
   "mimetype": "text/x-python",
   "name": "python",
   "nbconvert_exporter": "python",
   "pygments_lexer": "ipython3",
   "version": "3.7.3"
  }
 },
 "nbformat": 4,
 "nbformat_minor": 2
}
