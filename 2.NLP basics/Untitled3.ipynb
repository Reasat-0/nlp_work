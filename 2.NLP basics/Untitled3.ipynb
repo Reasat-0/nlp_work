{
 "cells": [
  {
   "cell_type": "code",
   "execution_count": 23,
   "metadata": {},
   "outputs": [
    {
     "name": "stdout",
     "output_type": "stream",
     "text": [
      "This     DET    1995909169258310477    this\n",
      "is       VERB   10382539506755952630   be\n",
      "a        DET    11901859001352538922   a\n",
      "running  VERB   12767647472892411841   run\n",
      "space    NOUN   14527154806029863691   space\n",
      "where    ADV    16318918034475841628   where\n",
      "I        PRON   561228191312463089     -PRON-\n",
      "used     VERB   6873750497785110593    use\n",
      "to       PART   3791531372978436496    to\n",
      "run      VERB   12767647472892411841   run\n",
      "a        DET    11901859001352538922   a\n",
      "race     NOUN   8048469955494714898    race\n",
      "with     ADP    12510949447758279278   with\n",
      "my       DET    561228191312463089     -PRON-\n",
      "running  VERB   12767647472892411841   run\n",
      "partners NOUN   15215732398709813157   partner\n",
      "who      PRON   3876862883474502309    who\n",
      "ran      VERB   12767647472892411841   run\n",
      "with     ADP    12510949447758279278   with\n",
      "me       PRON   561228191312463089     -PRON-\n"
     ]
    }
   ],
   "source": [
    "\n",
    "def lemmati(text):\n",
    "    for token in text:\n",
    "        print(f'{token.text:{8}} {token.pos_:{6}} {token.lemma:<{22}} {token.lemma_:}' )\n",
    "\n",
    "                \n",
    "lemmati(test_string)"
   ]
  }
 ],
 "metadata": {
  "kernelspec": {
   "display_name": "Python 3",
   "language": "python",
   "name": "python3"
  },
  "language_info": {
   "codemirror_mode": {
    "name": "ipython",
    "version": 3
   },
   "file_extension": ".py",
   "mimetype": "text/x-python",
   "name": "python",
   "nbconvert_exporter": "python",
   "pygments_lexer": "ipython3",
   "version": "3.7.3"
  }
 },
 "nbformat": 4,
 "nbformat_minor": 2
}
